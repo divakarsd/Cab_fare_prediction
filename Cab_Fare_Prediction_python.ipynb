{
 "cells": [
  {
   "cell_type": "markdown",
   "metadata": {},
   "source": [
    "# Loading the Libraries"
   ]
  },
  {
   "cell_type": "code",
   "execution_count": 12,
   "metadata": {
    "scrolled": true
   },
   "outputs": [],
   "source": [
    "#Loading libraries\n",
    "%matplotlib inline\n",
    "import warnings\n",
    "warnings.filterwarnings(\"ignore\")\n",
    "\n",
    "import os\n",
    "import pandas as pd\n",
    "import numpy as np\n",
    "import matplotlib.pyplot as plt\n",
    "import seaborn as sns\n",
    "from datetime import datetime\n",
    "\n",
    "#from scipy.stats import chi2_contingency\n",
    "#from random import randrange, uniform\n",
    "\n"
   ]
  },
  {
   "cell_type": "markdown",
   "metadata": {},
   "source": [
    "# Setting the working path"
   ]
  },
  {
   "cell_type": "code",
   "execution_count": 13,
   "metadata": {},
   "outputs": [
    {
     "data": {
      "text/plain": [
       "'C:\\\\Users\\\\swat\\\\Desktop\\\\Edwiser\\\\Final_project'"
      ]
     },
     "execution_count": 13,
     "metadata": {},
     "output_type": "execute_result"
    }
   ],
   "source": [
    "os.chdir(r\"C:\\Users\\swat\\Desktop\\Edwiser\\Final_project\")\n",
    "os.getcwd()"
   ]
  },
  {
   "cell_type": "markdown",
   "metadata": {},
   "source": [
    "# Loading the data to dataframe"
   ]
  },
  {
   "cell_type": "code",
   "execution_count": 14,
   "metadata": {},
   "outputs": [],
   "source": [
    "train_df = pd.read_csv(r\".\\train_cab\\train_cab.csv\")\n",
    "test_df = pd.read_csv(r\".\\test\\test.csv\")\n",
    "\n",
    "df = train_df.append(test_df)"
   ]
  },
  {
   "cell_type": "code",
   "execution_count": 15,
   "metadata": {},
   "outputs": [
    {
     "data": {
      "text/html": [
       "<div>\n",
       "<style scoped>\n",
       "    .dataframe tbody tr th:only-of-type {\n",
       "        vertical-align: middle;\n",
       "    }\n",
       "\n",
       "    .dataframe tbody tr th {\n",
       "        vertical-align: top;\n",
       "    }\n",
       "\n",
       "    .dataframe thead th {\n",
       "        text-align: right;\n",
       "    }\n",
       "</style>\n",
       "<table border=\"1\" class=\"dataframe\">\n",
       "  <thead>\n",
       "    <tr style=\"text-align: right;\">\n",
       "      <th></th>\n",
       "      <th>dropoff_latitude</th>\n",
       "      <th>dropoff_longitude</th>\n",
       "      <th>fare_amount</th>\n",
       "      <th>passenger_count</th>\n",
       "      <th>pickup_datetime</th>\n",
       "      <th>pickup_latitude</th>\n",
       "      <th>pickup_longitude</th>\n",
       "    </tr>\n",
       "  </thead>\n",
       "  <tbody>\n",
       "    <tr>\n",
       "      <th>0</th>\n",
       "      <td>40.712278</td>\n",
       "      <td>-73.841610</td>\n",
       "      <td>4.5</td>\n",
       "      <td>1.0</td>\n",
       "      <td>2009-06-15 17:26:21 UTC</td>\n",
       "      <td>40.721319</td>\n",
       "      <td>-73.844311</td>\n",
       "    </tr>\n",
       "    <tr>\n",
       "      <th>1</th>\n",
       "      <td>40.782004</td>\n",
       "      <td>-73.979268</td>\n",
       "      <td>16.9</td>\n",
       "      <td>1.0</td>\n",
       "      <td>2010-01-05 16:52:16 UTC</td>\n",
       "      <td>40.711303</td>\n",
       "      <td>-74.016048</td>\n",
       "    </tr>\n",
       "    <tr>\n",
       "      <th>2</th>\n",
       "      <td>40.750562</td>\n",
       "      <td>-73.991242</td>\n",
       "      <td>5.7</td>\n",
       "      <td>2.0</td>\n",
       "      <td>2011-08-18 00:35:00 UTC</td>\n",
       "      <td>40.761270</td>\n",
       "      <td>-73.982738</td>\n",
       "    </tr>\n",
       "    <tr>\n",
       "      <th>3</th>\n",
       "      <td>40.758092</td>\n",
       "      <td>-73.991567</td>\n",
       "      <td>7.7</td>\n",
       "      <td>1.0</td>\n",
       "      <td>2012-04-21 04:30:42 UTC</td>\n",
       "      <td>40.733143</td>\n",
       "      <td>-73.987130</td>\n",
       "    </tr>\n",
       "    <tr>\n",
       "      <th>4</th>\n",
       "      <td>40.783762</td>\n",
       "      <td>-73.956655</td>\n",
       "      <td>5.3</td>\n",
       "      <td>1.0</td>\n",
       "      <td>2010-03-09 07:51:00 UTC</td>\n",
       "      <td>40.768008</td>\n",
       "      <td>-73.968095</td>\n",
       "    </tr>\n",
       "  </tbody>\n",
       "</table>\n",
       "</div>"
      ],
      "text/plain": [
       "   dropoff_latitude  dropoff_longitude fare_amount  passenger_count  \\\n",
       "0         40.712278         -73.841610         4.5              1.0   \n",
       "1         40.782004         -73.979268        16.9              1.0   \n",
       "2         40.750562         -73.991242         5.7              2.0   \n",
       "3         40.758092         -73.991567         7.7              1.0   \n",
       "4         40.783762         -73.956655         5.3              1.0   \n",
       "\n",
       "           pickup_datetime  pickup_latitude  pickup_longitude  \n",
       "0  2009-06-15 17:26:21 UTC        40.721319        -73.844311  \n",
       "1  2010-01-05 16:52:16 UTC        40.711303        -74.016048  \n",
       "2  2011-08-18 00:35:00 UTC        40.761270        -73.982738  \n",
       "3  2012-04-21 04:30:42 UTC        40.733143        -73.987130  \n",
       "4  2010-03-09 07:51:00 UTC        40.768008        -73.968095  "
      ]
     },
     "execution_count": 15,
     "metadata": {},
     "output_type": "execute_result"
    }
   ],
   "source": [
    "df.head()\n",
    "#df.to_excel('df.xlsx',sheet_name = \"hello\")"
   ]
  },
  {
   "cell_type": "code",
   "execution_count": 16,
   "metadata": {},
   "outputs": [
    {
     "data": {
      "text/plain": [
       "(25981, 7)"
      ]
     },
     "execution_count": 16,
     "metadata": {},
     "output_type": "execute_result"
    }
   ],
   "source": [
    "df.shape"
   ]
  },
  {
   "cell_type": "markdown",
   "metadata": {},
   "source": [
    "#### Summary:\n",
    "1. We have both input variable and target variable. SO it is a supervised machine learning model.\n",
    "2. We need to find the fare amount for the cab services which is a continuous variable. So it is a regression problem.\n",
    "3. For regression problems we need to use regression supervised machine learning algorithms.\n",
    "    1. KNN\n",
    "    2. Linear regression\n",
    "    3. Decision tree\n",
    "    4. Ensemble methods.\n",
    "4. For regression problems we should follow regression metrics\n",
    "    1. RSME (Root mean square error)\n",
    "    2. MSE (Mean square error)\n",
    "    3. R square\n",
    "    4. Adjusted R square."
   ]
  },
  {
   "cell_type": "code",
   "execution_count": 17,
   "metadata": {},
   "outputs": [
    {
     "data": {
      "text/plain": [
       "1.00       18173\n",
       "2.00        3796\n",
       "5.00        1741\n",
       "3.00        1123\n",
       "4.00         535\n",
       "6.00         479\n",
       "0.00          57\n",
       "53.00          2\n",
       "43.00          2\n",
       "554.00         1\n",
       "0.12           1\n",
       "531.20         1\n",
       "456.00         1\n",
       "354.00         1\n",
       "55.00          1\n",
       "557.00         1\n",
       "5345.00        1\n",
       "236.00         1\n",
       "1.30           1\n",
       "345.00         1\n",
       "58.00          1\n",
       "35.00          1\n",
       "535.00         1\n",
       "536.00         1\n",
       "537.00         1\n",
       "5334.00        1\n",
       "87.00          1\n",
       "Name: passenger_count, dtype: int64"
      ]
     },
     "execution_count": 17,
     "metadata": {},
     "output_type": "execute_result"
    }
   ],
   "source": [
    "df['passenger_count'].value_counts()"
   ]
  },
  {
   "cell_type": "markdown",
   "metadata": {},
   "source": [
    "#### Summary:\n",
    "   \n",
    "   In the passenger count column we have many outliers and null values. As per the above results, We can consider maximum no of persons can sit a cab is 6 persons. So other than passenger count (1,2,3,4,5,6) remaining values we should clean."
   ]
  },
  {
   "cell_type": "code",
   "execution_count": 18,
   "metadata": {},
   "outputs": [
    {
     "name": "stdout",
     "output_type": "stream",
     "text": [
      "Categorical :  ['fare_amount', 'pickup_datetime']\n",
      "====================================================================================================\n",
      "Numerical :  []\n",
      "====================================================================================================\n",
      "float_data :  ['dropoff_latitude', 'dropoff_longitude', 'passenger_count', 'pickup_latitude', 'pickup_longitude']\n",
      "====================================================================================================\n",
      "dropoff_latitude     float64\n",
      "dropoff_longitude    float64\n",
      "fare_amount           object\n",
      "passenger_count      float64\n",
      "pickup_datetime       object\n",
      "pickup_latitude      float64\n",
      "pickup_longitude     float64\n",
      "dtype: object\n"
     ]
    }
   ],
   "source": [
    "Categorical =[]\n",
    "Numerical =[]\n",
    "float_data = []\n",
    "\n",
    "for col in df.columns.values:\n",
    "    if df[col].dtypes=='object':\n",
    "        Categorical.append(col)\n",
    "    elif df[col].dtypes=='int64':\n",
    "        Numerical.append(col)\n",
    "    else:\n",
    "        float_data.append(col)\n",
    "        \n",
    "print('Categorical : ',Categorical)\n",
    "print(\"=\"*100)\n",
    "print(\"Numerical : \", Numerical)\n",
    "print(\"=\"*100)\n",
    "print(\"float_data : \", float_data)\n",
    "print(\"=\"*100)\n",
    "print(df.dtypes)"
   ]
  },
  {
   "cell_type": "markdown",
   "metadata": {},
   "source": [
    "#### Summary:\n",
    "1. We have lot of columns as numeric or float. So we don't have categorical variables in the data.\n",
    "2. Preprocessing techniques varies ffor both numerical and categorical data."
   ]
  },
  {
   "cell_type": "code",
   "execution_count": 19,
   "metadata": {},
   "outputs": [],
   "source": [
    "# when we tried convert pickup_datetime variable to date format it was throwing error coz of a starnge value in the variable\n",
    "# So first treat it as NA and drop \n",
    "df.loc[df['pickup_datetime'] == '43' ,'pickup_datetime'] = np.nan  \n",
    "\n",
    "df = df.drop(df[df['pickup_datetime'].isnull()].index, axis = 0)\n",
    "\n",
    "# Now lets convert pickup_datetime\n",
    "df['pickup_datetime'] =  pd.to_datetime(df['pickup_datetime'], format='%Y-%m-%d %H:%M:%S UTC')\n",
    "\n",
    "df['Year'] = df['pickup_datetime'].dt.year\n",
    "df['Month'] = df['pickup_datetime'].dt.month\n",
    "df['Date'] = df['pickup_datetime'].dt.day\n",
    "df['Day'] = df['pickup_datetime'].dt.dayofweek\n",
    "df['Hour'] = df['pickup_datetime'].dt.hour\n",
    "df['Minute'] = df['pickup_datetime'].dt.minute\n",
    "\n",
    "df = df.drop('pickup_datetime',axis=1)"
   ]
  },
  {
   "cell_type": "code",
   "execution_count": 20,
   "metadata": {},
   "outputs": [
    {
     "data": {
      "text/html": [
       "<div>\n",
       "<style scoped>\n",
       "    .dataframe tbody tr th:only-of-type {\n",
       "        vertical-align: middle;\n",
       "    }\n",
       "\n",
       "    .dataframe tbody tr th {\n",
       "        vertical-align: top;\n",
       "    }\n",
       "\n",
       "    .dataframe thead th {\n",
       "        text-align: right;\n",
       "    }\n",
       "</style>\n",
       "<table border=\"1\" class=\"dataframe\">\n",
       "  <thead>\n",
       "    <tr style=\"text-align: right;\">\n",
       "      <th></th>\n",
       "      <th>dropoff_latitude</th>\n",
       "      <th>dropoff_longitude</th>\n",
       "      <th>fare_amount</th>\n",
       "      <th>passenger_count</th>\n",
       "      <th>pickup_latitude</th>\n",
       "      <th>pickup_longitude</th>\n",
       "      <th>Year</th>\n",
       "      <th>Month</th>\n",
       "      <th>Date</th>\n",
       "      <th>Day</th>\n",
       "      <th>Hour</th>\n",
       "      <th>Minute</th>\n",
       "    </tr>\n",
       "  </thead>\n",
       "  <tbody>\n",
       "    <tr>\n",
       "      <th>0</th>\n",
       "      <td>40.712278</td>\n",
       "      <td>-73.841610</td>\n",
       "      <td>4.5</td>\n",
       "      <td>1.0</td>\n",
       "      <td>40.721319</td>\n",
       "      <td>-73.844311</td>\n",
       "      <td>2009</td>\n",
       "      <td>6</td>\n",
       "      <td>15</td>\n",
       "      <td>0</td>\n",
       "      <td>17</td>\n",
       "      <td>26</td>\n",
       "    </tr>\n",
       "    <tr>\n",
       "      <th>1</th>\n",
       "      <td>40.782004</td>\n",
       "      <td>-73.979268</td>\n",
       "      <td>16.9</td>\n",
       "      <td>1.0</td>\n",
       "      <td>40.711303</td>\n",
       "      <td>-74.016048</td>\n",
       "      <td>2010</td>\n",
       "      <td>1</td>\n",
       "      <td>5</td>\n",
       "      <td>1</td>\n",
       "      <td>16</td>\n",
       "      <td>52</td>\n",
       "    </tr>\n",
       "    <tr>\n",
       "      <th>2</th>\n",
       "      <td>40.750562</td>\n",
       "      <td>-73.991242</td>\n",
       "      <td>5.7</td>\n",
       "      <td>2.0</td>\n",
       "      <td>40.761270</td>\n",
       "      <td>-73.982738</td>\n",
       "      <td>2011</td>\n",
       "      <td>8</td>\n",
       "      <td>18</td>\n",
       "      <td>3</td>\n",
       "      <td>0</td>\n",
       "      <td>35</td>\n",
       "    </tr>\n",
       "    <tr>\n",
       "      <th>3</th>\n",
       "      <td>40.758092</td>\n",
       "      <td>-73.991567</td>\n",
       "      <td>7.7</td>\n",
       "      <td>1.0</td>\n",
       "      <td>40.733143</td>\n",
       "      <td>-73.987130</td>\n",
       "      <td>2012</td>\n",
       "      <td>4</td>\n",
       "      <td>21</td>\n",
       "      <td>5</td>\n",
       "      <td>4</td>\n",
       "      <td>30</td>\n",
       "    </tr>\n",
       "    <tr>\n",
       "      <th>4</th>\n",
       "      <td>40.783762</td>\n",
       "      <td>-73.956655</td>\n",
       "      <td>5.3</td>\n",
       "      <td>1.0</td>\n",
       "      <td>40.768008</td>\n",
       "      <td>-73.968095</td>\n",
       "      <td>2010</td>\n",
       "      <td>3</td>\n",
       "      <td>9</td>\n",
       "      <td>1</td>\n",
       "      <td>7</td>\n",
       "      <td>51</td>\n",
       "    </tr>\n",
       "  </tbody>\n",
       "</table>\n",
       "</div>"
      ],
      "text/plain": [
       "   dropoff_latitude  dropoff_longitude fare_amount  passenger_count  \\\n",
       "0         40.712278         -73.841610         4.5              1.0   \n",
       "1         40.782004         -73.979268        16.9              1.0   \n",
       "2         40.750562         -73.991242         5.7              2.0   \n",
       "3         40.758092         -73.991567         7.7              1.0   \n",
       "4         40.783762         -73.956655         5.3              1.0   \n",
       "\n",
       "   pickup_latitude  pickup_longitude  Year  Month  Date  Day  Hour  Minute  \n",
       "0        40.721319        -73.844311  2009      6    15    0    17      26  \n",
       "1        40.711303        -74.016048  2010      1     5    1    16      52  \n",
       "2        40.761270        -73.982738  2011      8    18    3     0      35  \n",
       "3        40.733143        -73.987130  2012      4    21    5     4      30  \n",
       "4        40.768008        -73.968095  2010      3     9    1     7      51  "
      ]
     },
     "execution_count": 20,
     "metadata": {},
     "output_type": "execute_result"
    }
   ],
   "source": [
    "df.head()"
   ]
  },
  {
   "cell_type": "code",
   "execution_count": 21,
   "metadata": {},
   "outputs": [
    {
     "data": {
      "text/plain": [
       "dropoff_latitude     float64\n",
       "dropoff_longitude    float64\n",
       "fare_amount           object\n",
       "passenger_count      float64\n",
       "pickup_latitude      float64\n",
       "pickup_longitude     float64\n",
       "Year                   int64\n",
       "Month                  int64\n",
       "Date                   int64\n",
       "Day                    int64\n",
       "Hour                   int64\n",
       "Minute                 int64\n",
       "dtype: object"
      ]
     },
     "execution_count": 21,
     "metadata": {},
     "output_type": "execute_result"
    }
   ],
   "source": [
    "df.dtypes"
   ]
  },
  {
   "cell_type": "markdown",
   "metadata": {},
   "source": [
    "#### Summary:\n",
    "1. We have a date object in the dataframe, We cannot perform with the data object for training the machine learning model. So either we need to drop the variable or we need to perform feature engineering for that column by cconverting the date in to separate columns like year, month, date,time etc.."
   ]
  },
  {
   "cell_type": "markdown",
   "metadata": {},
   "source": [
    "# Statistics"
   ]
  },
  {
   "cell_type": "code",
   "execution_count": 22,
   "metadata": {},
   "outputs": [
    {
     "data": {
      "text/plain": [
       "dropoff_latitude       40.223677\n",
       "dropoff_longitude     -73.038957\n",
       "passenger_count         2.260439\n",
       "pickup_latitude        40.233812\n",
       "pickup_longitude      -73.039649\n",
       "Year                 2011.763193\n",
       "Month                   6.488433\n",
       "Date                   15.869510\n",
       "Day                     2.964125\n",
       "Hour                   13.486200\n",
       "Minute                 29.603680\n",
       "dtype: float64"
      ]
     },
     "execution_count": 22,
     "metadata": {},
     "output_type": "execute_result"
    }
   ],
   "source": [
    "df.mean()\n"
   ]
  },
  {
   "cell_type": "code",
   "execution_count": 23,
   "metadata": {},
   "outputs": [
    {
     "data": {
      "text/plain": [
       "dropoff_latitude       40.753738\n",
       "dropoff_longitude     -73.980118\n",
       "passenger_count         1.000000\n",
       "pickup_latitude        40.752786\n",
       "pickup_longitude      -73.981985\n",
       "Year                 2012.000000\n",
       "Month                   6.000000\n",
       "Date                   16.000000\n",
       "Day                     3.000000\n",
       "Hour                   14.000000\n",
       "Minute                 31.000000\n",
       "dtype: float64"
      ]
     },
     "execution_count": 23,
     "metadata": {},
     "output_type": "execute_result"
    }
   ],
   "source": [
    "df.median()\n"
   ]
  },
  {
   "cell_type": "code",
   "execution_count": 24,
   "metadata": {},
   "outputs": [
    {
     "data": {
      "text/plain": [
       "dropoff_latitude      4.883305\n",
       "dropoff_longitude     8.348750\n",
       "passenger_count      47.826103\n",
       "pickup_latitude       5.383911\n",
       "pickup_longitude      8.351386\n",
       "Year                  1.841673\n",
       "Month                 3.424242\n",
       "Date                  8.746222\n",
       "Day                   1.980548\n",
       "Hour                  6.655178\n",
       "Minute               17.833486\n",
       "dtype: float64"
      ]
     },
     "execution_count": 24,
     "metadata": {},
     "output_type": "execute_result"
    }
   ],
   "source": [
    "df.std() #Standard deviation\n"
   ]
  },
  {
   "cell_type": "code",
   "execution_count": 25,
   "metadata": {},
   "outputs": [
    {
     "data": {
      "text/plain": [
       "dropoff_latitude     -10.691715\n",
       "dropoff_longitude      8.916297\n",
       "passenger_count      107.634524\n",
       "pickup_latitude        3.573762\n",
       "pickup_longitude       8.915518\n",
       "Year                   0.093140\n",
       "Month                  0.015603\n",
       "Date                  -0.043127\n",
       "Day                    0.025323\n",
       "Hour                  -0.419189\n",
       "Minute                -0.068490\n",
       "dtype: float64"
      ]
     },
     "execution_count": 25,
     "metadata": {},
     "output_type": "execute_result"
    }
   ],
   "source": [
    "df.skew()\n"
   ]
  },
  {
   "cell_type": "code",
   "execution_count": 26,
   "metadata": {},
   "outputs": [
    {
     "data": {
      "text/html": [
       "<div>\n",
       "<style scoped>\n",
       "    .dataframe tbody tr th:only-of-type {\n",
       "        vertical-align: middle;\n",
       "    }\n",
       "\n",
       "    .dataframe tbody tr th {\n",
       "        vertical-align: top;\n",
       "    }\n",
       "\n",
       "    .dataframe thead th {\n",
       "        text-align: right;\n",
       "    }\n",
       "</style>\n",
       "<table border=\"1\" class=\"dataframe\">\n",
       "  <thead>\n",
       "    <tr style=\"text-align: right;\">\n",
       "      <th></th>\n",
       "      <th>dropoff_latitude</th>\n",
       "      <th>dropoff_longitude</th>\n",
       "      <th>passenger_count</th>\n",
       "      <th>pickup_latitude</th>\n",
       "      <th>pickup_longitude</th>\n",
       "      <th>Year</th>\n",
       "      <th>Month</th>\n",
       "      <th>Date</th>\n",
       "      <th>Day</th>\n",
       "      <th>Hour</th>\n",
       "      <th>Minute</th>\n",
       "    </tr>\n",
       "  </thead>\n",
       "  <tbody>\n",
       "    <tr>\n",
       "      <th>count</th>\n",
       "      <td>25979.000000</td>\n",
       "      <td>25979.000000</td>\n",
       "      <td>25924.000000</td>\n",
       "      <td>25979.000000</td>\n",
       "      <td>25979.000000</td>\n",
       "      <td>25979.000000</td>\n",
       "      <td>25979.000000</td>\n",
       "      <td>25979.000000</td>\n",
       "      <td>25979.000000</td>\n",
       "      <td>25979.000000</td>\n",
       "      <td>25979.000000</td>\n",
       "    </tr>\n",
       "    <tr>\n",
       "      <th>mean</th>\n",
       "      <td>40.223677</td>\n",
       "      <td>-73.038957</td>\n",
       "      <td>2.260439</td>\n",
       "      <td>40.233812</td>\n",
       "      <td>-73.039649</td>\n",
       "      <td>2011.763193</td>\n",
       "      <td>6.488433</td>\n",
       "      <td>15.869510</td>\n",
       "      <td>2.964125</td>\n",
       "      <td>13.486200</td>\n",
       "      <td>29.603680</td>\n",
       "    </tr>\n",
       "    <tr>\n",
       "      <th>std</th>\n",
       "      <td>4.883305</td>\n",
       "      <td>8.348750</td>\n",
       "      <td>47.826103</td>\n",
       "      <td>5.383911</td>\n",
       "      <td>8.351386</td>\n",
       "      <td>1.841673</td>\n",
       "      <td>3.424242</td>\n",
       "      <td>8.746222</td>\n",
       "      <td>1.980548</td>\n",
       "      <td>6.655178</td>\n",
       "      <td>17.833486</td>\n",
       "    </tr>\n",
       "    <tr>\n",
       "      <th>min</th>\n",
       "      <td>-74.006377</td>\n",
       "      <td>-74.429332</td>\n",
       "      <td>0.000000</td>\n",
       "      <td>-74.006893</td>\n",
       "      <td>-74.438233</td>\n",
       "      <td>2009.000000</td>\n",
       "      <td>1.000000</td>\n",
       "      <td>1.000000</td>\n",
       "      <td>0.000000</td>\n",
       "      <td>0.000000</td>\n",
       "      <td>0.000000</td>\n",
       "    </tr>\n",
       "    <tr>\n",
       "      <th>25%</th>\n",
       "      <td>40.734948</td>\n",
       "      <td>-73.991211</td>\n",
       "      <td>1.000000</td>\n",
       "      <td>40.735395</td>\n",
       "      <td>-73.992300</td>\n",
       "      <td>2010.000000</td>\n",
       "      <td>4.000000</td>\n",
       "      <td>8.000000</td>\n",
       "      <td>1.000000</td>\n",
       "      <td>9.000000</td>\n",
       "      <td>14.000000</td>\n",
       "    </tr>\n",
       "    <tr>\n",
       "      <th>50%</th>\n",
       "      <td>40.753738</td>\n",
       "      <td>-73.980118</td>\n",
       "      <td>1.000000</td>\n",
       "      <td>40.752786</td>\n",
       "      <td>-73.981985</td>\n",
       "      <td>2012.000000</td>\n",
       "      <td>6.000000</td>\n",
       "      <td>16.000000</td>\n",
       "      <td>3.000000</td>\n",
       "      <td>14.000000</td>\n",
       "      <td>31.000000</td>\n",
       "    </tr>\n",
       "    <tr>\n",
       "      <th>75%</th>\n",
       "      <td>40.768338</td>\n",
       "      <td>-73.963775</td>\n",
       "      <td>2.000000</td>\n",
       "      <td>40.767279</td>\n",
       "      <td>-73.967270</td>\n",
       "      <td>2013.000000</td>\n",
       "      <td>9.000000</td>\n",
       "      <td>24.000000</td>\n",
       "      <td>5.000000</td>\n",
       "      <td>19.000000</td>\n",
       "      <td>45.000000</td>\n",
       "    </tr>\n",
       "    <tr>\n",
       "      <th>max</th>\n",
       "      <td>41.696683</td>\n",
       "      <td>40.802437</td>\n",
       "      <td>5345.000000</td>\n",
       "      <td>401.083332</td>\n",
       "      <td>40.766125</td>\n",
       "      <td>2015.000000</td>\n",
       "      <td>12.000000</td>\n",
       "      <td>31.000000</td>\n",
       "      <td>6.000000</td>\n",
       "      <td>23.000000</td>\n",
       "      <td>59.000000</td>\n",
       "    </tr>\n",
       "  </tbody>\n",
       "</table>\n",
       "</div>"
      ],
      "text/plain": [
       "       dropoff_latitude  dropoff_longitude  passenger_count  pickup_latitude  \\\n",
       "count      25979.000000       25979.000000     25924.000000     25979.000000   \n",
       "mean          40.223677         -73.038957         2.260439        40.233812   \n",
       "std            4.883305           8.348750        47.826103         5.383911   \n",
       "min          -74.006377         -74.429332         0.000000       -74.006893   \n",
       "25%           40.734948         -73.991211         1.000000        40.735395   \n",
       "50%           40.753738         -73.980118         1.000000        40.752786   \n",
       "75%           40.768338         -73.963775         2.000000        40.767279   \n",
       "max           41.696683          40.802437      5345.000000       401.083332   \n",
       "\n",
       "       pickup_longitude          Year         Month          Date  \\\n",
       "count      25979.000000  25979.000000  25979.000000  25979.000000   \n",
       "mean         -73.039649   2011.763193      6.488433     15.869510   \n",
       "std            8.351386      1.841673      3.424242      8.746222   \n",
       "min          -74.438233   2009.000000      1.000000      1.000000   \n",
       "25%          -73.992300   2010.000000      4.000000      8.000000   \n",
       "50%          -73.981985   2012.000000      6.000000     16.000000   \n",
       "75%          -73.967270   2013.000000      9.000000     24.000000   \n",
       "max           40.766125   2015.000000     12.000000     31.000000   \n",
       "\n",
       "                Day          Hour        Minute  \n",
       "count  25979.000000  25979.000000  25979.000000  \n",
       "mean       2.964125     13.486200     29.603680  \n",
       "std        1.980548      6.655178     17.833486  \n",
       "min        0.000000      0.000000      0.000000  \n",
       "25%        1.000000      9.000000     14.000000  \n",
       "50%        3.000000     14.000000     31.000000  \n",
       "75%        5.000000     19.000000     45.000000  \n",
       "max        6.000000     23.000000     59.000000  "
      ]
     },
     "execution_count": 26,
     "metadata": {},
     "output_type": "execute_result"
    }
   ],
   "source": [
    "df.describe()"
   ]
  },
  {
   "cell_type": "code",
   "execution_count": 27,
   "metadata": {},
   "outputs": [
    {
     "data": {
      "text/html": [
       "<div>\n",
       "<style scoped>\n",
       "    .dataframe tbody tr th:only-of-type {\n",
       "        vertical-align: middle;\n",
       "    }\n",
       "\n",
       "    .dataframe tbody tr th {\n",
       "        vertical-align: top;\n",
       "    }\n",
       "\n",
       "    .dataframe thead th {\n",
       "        text-align: right;\n",
       "    }\n",
       "</style>\n",
       "<table border=\"1\" class=\"dataframe\">\n",
       "  <thead>\n",
       "    <tr style=\"text-align: right;\">\n",
       "      <th></th>\n",
       "      <th>dropoff_latitude</th>\n",
       "      <th>dropoff_longitude</th>\n",
       "      <th>passenger_count</th>\n",
       "      <th>pickup_latitude</th>\n",
       "      <th>pickup_longitude</th>\n",
       "      <th>Year</th>\n",
       "      <th>Month</th>\n",
       "      <th>Date</th>\n",
       "      <th>Day</th>\n",
       "      <th>Hour</th>\n",
       "      <th>Minute</th>\n",
       "    </tr>\n",
       "  </thead>\n",
       "  <tbody>\n",
       "    <tr>\n",
       "      <th>dropoff_latitude</th>\n",
       "      <td>1.000000</td>\n",
       "      <td>-0.978197</td>\n",
       "      <td>-0.000508</td>\n",
       "      <td>0.883000</td>\n",
       "      <td>-0.952288</td>\n",
       "      <td>0.008589</td>\n",
       "      <td>0.012631</td>\n",
       "      <td>0.001126</td>\n",
       "      <td>-0.005476</td>\n",
       "      <td>0.008140</td>\n",
       "      <td>-0.002324</td>\n",
       "    </tr>\n",
       "    <tr>\n",
       "      <th>dropoff_longitude</th>\n",
       "      <td>-0.978197</td>\n",
       "      <td>1.000000</td>\n",
       "      <td>0.000511</td>\n",
       "      <td>-0.864221</td>\n",
       "      <td>0.964045</td>\n",
       "      <td>-0.011468</td>\n",
       "      <td>-0.012506</td>\n",
       "      <td>-0.003367</td>\n",
       "      <td>0.005624</td>\n",
       "      <td>-0.007193</td>\n",
       "      <td>0.002578</td>\n",
       "    </tr>\n",
       "    <tr>\n",
       "      <th>passenger_count</th>\n",
       "      <td>-0.000508</td>\n",
       "      <td>0.000511</td>\n",
       "      <td>1.000000</td>\n",
       "      <td>-0.000491</td>\n",
       "      <td>0.000500</td>\n",
       "      <td>0.001650</td>\n",
       "      <td>-0.009724</td>\n",
       "      <td>0.006889</td>\n",
       "      <td>-0.002741</td>\n",
       "      <td>0.002000</td>\n",
       "      <td>-0.002480</td>\n",
       "    </tr>\n",
       "    <tr>\n",
       "      <th>pickup_latitude</th>\n",
       "      <td>0.883000</td>\n",
       "      <td>-0.864221</td>\n",
       "      <td>-0.000491</td>\n",
       "      <td>1.000000</td>\n",
       "      <td>-0.894925</td>\n",
       "      <td>0.007045</td>\n",
       "      <td>0.010874</td>\n",
       "      <td>0.003931</td>\n",
       "      <td>-0.001717</td>\n",
       "      <td>0.007126</td>\n",
       "      <td>-0.003355</td>\n",
       "    </tr>\n",
       "    <tr>\n",
       "      <th>pickup_longitude</th>\n",
       "      <td>-0.952288</td>\n",
       "      <td>0.964045</td>\n",
       "      <td>0.000500</td>\n",
       "      <td>-0.894925</td>\n",
       "      <td>1.000000</td>\n",
       "      <td>-0.012043</td>\n",
       "      <td>-0.011119</td>\n",
       "      <td>-0.001893</td>\n",
       "      <td>0.004624</td>\n",
       "      <td>-0.007452</td>\n",
       "      <td>0.000580</td>\n",
       "    </tr>\n",
       "    <tr>\n",
       "      <th>Year</th>\n",
       "      <td>0.008589</td>\n",
       "      <td>-0.011468</td>\n",
       "      <td>0.001650</td>\n",
       "      <td>0.007045</td>\n",
       "      <td>-0.012043</td>\n",
       "      <td>1.000000</td>\n",
       "      <td>-0.146754</td>\n",
       "      <td>0.026857</td>\n",
       "      <td>0.008383</td>\n",
       "      <td>0.001797</td>\n",
       "      <td>-0.009028</td>\n",
       "    </tr>\n",
       "    <tr>\n",
       "      <th>Month</th>\n",
       "      <td>0.012631</td>\n",
       "      <td>-0.012506</td>\n",
       "      <td>-0.009724</td>\n",
       "      <td>0.010874</td>\n",
       "      <td>-0.011119</td>\n",
       "      <td>-0.146754</td>\n",
       "      <td>1.000000</td>\n",
       "      <td>-0.036819</td>\n",
       "      <td>-0.075229</td>\n",
       "      <td>0.058736</td>\n",
       "      <td>-0.024079</td>\n",
       "    </tr>\n",
       "    <tr>\n",
       "      <th>Date</th>\n",
       "      <td>0.001126</td>\n",
       "      <td>-0.003367</td>\n",
       "      <td>0.006889</td>\n",
       "      <td>0.003931</td>\n",
       "      <td>-0.001893</td>\n",
       "      <td>0.026857</td>\n",
       "      <td>-0.036819</td>\n",
       "      <td>1.000000</td>\n",
       "      <td>-0.020770</td>\n",
       "      <td>0.018045</td>\n",
       "      <td>0.032459</td>\n",
       "    </tr>\n",
       "    <tr>\n",
       "      <th>Day</th>\n",
       "      <td>-0.005476</td>\n",
       "      <td>0.005624</td>\n",
       "      <td>-0.002741</td>\n",
       "      <td>-0.001717</td>\n",
       "      <td>0.004624</td>\n",
       "      <td>0.008383</td>\n",
       "      <td>-0.075229</td>\n",
       "      <td>-0.020770</td>\n",
       "      <td>1.000000</td>\n",
       "      <td>-0.103083</td>\n",
       "      <td>-0.012798</td>\n",
       "    </tr>\n",
       "    <tr>\n",
       "      <th>Hour</th>\n",
       "      <td>0.008140</td>\n",
       "      <td>-0.007193</td>\n",
       "      <td>0.002000</td>\n",
       "      <td>0.007126</td>\n",
       "      <td>-0.007452</td>\n",
       "      <td>0.001797</td>\n",
       "      <td>0.058736</td>\n",
       "      <td>0.018045</td>\n",
       "      <td>-0.103083</td>\n",
       "      <td>1.000000</td>\n",
       "      <td>-0.028335</td>\n",
       "    </tr>\n",
       "    <tr>\n",
       "      <th>Minute</th>\n",
       "      <td>-0.002324</td>\n",
       "      <td>0.002578</td>\n",
       "      <td>-0.002480</td>\n",
       "      <td>-0.003355</td>\n",
       "      <td>0.000580</td>\n",
       "      <td>-0.009028</td>\n",
       "      <td>-0.024079</td>\n",
       "      <td>0.032459</td>\n",
       "      <td>-0.012798</td>\n",
       "      <td>-0.028335</td>\n",
       "      <td>1.000000</td>\n",
       "    </tr>\n",
       "  </tbody>\n",
       "</table>\n",
       "</div>"
      ],
      "text/plain": [
       "                   dropoff_latitude  dropoff_longitude  passenger_count  \\\n",
       "dropoff_latitude           1.000000          -0.978197        -0.000508   \n",
       "dropoff_longitude         -0.978197           1.000000         0.000511   \n",
       "passenger_count           -0.000508           0.000511         1.000000   \n",
       "pickup_latitude            0.883000          -0.864221        -0.000491   \n",
       "pickup_longitude          -0.952288           0.964045         0.000500   \n",
       "Year                       0.008589          -0.011468         0.001650   \n",
       "Month                      0.012631          -0.012506        -0.009724   \n",
       "Date                       0.001126          -0.003367         0.006889   \n",
       "Day                       -0.005476           0.005624        -0.002741   \n",
       "Hour                       0.008140          -0.007193         0.002000   \n",
       "Minute                    -0.002324           0.002578        -0.002480   \n",
       "\n",
       "                   pickup_latitude  pickup_longitude      Year     Month  \\\n",
       "dropoff_latitude          0.883000         -0.952288  0.008589  0.012631   \n",
       "dropoff_longitude        -0.864221          0.964045 -0.011468 -0.012506   \n",
       "passenger_count          -0.000491          0.000500  0.001650 -0.009724   \n",
       "pickup_latitude           1.000000         -0.894925  0.007045  0.010874   \n",
       "pickup_longitude         -0.894925          1.000000 -0.012043 -0.011119   \n",
       "Year                      0.007045         -0.012043  1.000000 -0.146754   \n",
       "Month                     0.010874         -0.011119 -0.146754  1.000000   \n",
       "Date                      0.003931         -0.001893  0.026857 -0.036819   \n",
       "Day                      -0.001717          0.004624  0.008383 -0.075229   \n",
       "Hour                      0.007126         -0.007452  0.001797  0.058736   \n",
       "Minute                   -0.003355          0.000580 -0.009028 -0.024079   \n",
       "\n",
       "                       Date       Day      Hour    Minute  \n",
       "dropoff_latitude   0.001126 -0.005476  0.008140 -0.002324  \n",
       "dropoff_longitude -0.003367  0.005624 -0.007193  0.002578  \n",
       "passenger_count    0.006889 -0.002741  0.002000 -0.002480  \n",
       "pickup_latitude    0.003931 -0.001717  0.007126 -0.003355  \n",
       "pickup_longitude  -0.001893  0.004624 -0.007452  0.000580  \n",
       "Year               0.026857  0.008383  0.001797 -0.009028  \n",
       "Month             -0.036819 -0.075229  0.058736 -0.024079  \n",
       "Date               1.000000 -0.020770  0.018045  0.032459  \n",
       "Day               -0.020770  1.000000 -0.103083 -0.012798  \n",
       "Hour               0.018045 -0.103083  1.000000 -0.028335  \n",
       "Minute             0.032459 -0.012798 -0.028335  1.000000  "
      ]
     },
     "execution_count": 27,
     "metadata": {},
     "output_type": "execute_result"
    }
   ],
   "source": [
    "df.corr(method ='pearson')"
   ]
  },
  {
   "cell_type": "code",
   "execution_count": 28,
   "metadata": {},
   "outputs": [
    {
     "data": {
      "text/html": [
       "<div>\n",
       "<style scoped>\n",
       "    .dataframe tbody tr th:only-of-type {\n",
       "        vertical-align: middle;\n",
       "    }\n",
       "\n",
       "    .dataframe tbody tr th {\n",
       "        vertical-align: top;\n",
       "    }\n",
       "\n",
       "    .dataframe thead th {\n",
       "        text-align: right;\n",
       "    }\n",
       "</style>\n",
       "<table border=\"1\" class=\"dataframe\">\n",
       "  <thead>\n",
       "    <tr style=\"text-align: right;\">\n",
       "      <th></th>\n",
       "      <th>dropoff_latitude</th>\n",
       "      <th>dropoff_longitude</th>\n",
       "      <th>passenger_count</th>\n",
       "      <th>pickup_latitude</th>\n",
       "      <th>pickup_longitude</th>\n",
       "      <th>Year</th>\n",
       "      <th>Month</th>\n",
       "      <th>Date</th>\n",
       "      <th>Day</th>\n",
       "      <th>Hour</th>\n",
       "      <th>Minute</th>\n",
       "    </tr>\n",
       "  </thead>\n",
       "  <tbody>\n",
       "    <tr>\n",
       "      <th>dropoff_latitude</th>\n",
       "      <td>23.846669</td>\n",
       "      <td>-39.880602</td>\n",
       "      <td>-0.118684</td>\n",
       "      <td>23.215191</td>\n",
       "      <td>-38.836542</td>\n",
       "      <td>0.077247</td>\n",
       "      <td>0.211210</td>\n",
       "      <td>0.048109</td>\n",
       "      <td>-0.052963</td>\n",
       "      <td>0.264553</td>\n",
       "      <td>-0.202356</td>\n",
       "    </tr>\n",
       "    <tr>\n",
       "      <th>dropoff_longitude</th>\n",
       "      <td>-39.880602</td>\n",
       "      <td>69.701630</td>\n",
       "      <td>0.204275</td>\n",
       "      <td>-38.845825</td>\n",
       "      <td>67.216747</td>\n",
       "      <td>-0.176327</td>\n",
       "      <td>-0.357515</td>\n",
       "      <td>-0.245840</td>\n",
       "      <td>0.092996</td>\n",
       "      <td>-0.399686</td>\n",
       "      <td>0.383804</td>\n",
       "    </tr>\n",
       "    <tr>\n",
       "      <th>passenger_count</th>\n",
       "      <td>-0.118684</td>\n",
       "      <td>0.204275</td>\n",
       "      <td>2287.336083</td>\n",
       "      <td>-0.126495</td>\n",
       "      <td>0.199816</td>\n",
       "      <td>0.145318</td>\n",
       "      <td>-1.592351</td>\n",
       "      <td>2.881611</td>\n",
       "      <td>-0.259592</td>\n",
       "      <td>0.636739</td>\n",
       "      <td>-2.115660</td>\n",
       "    </tr>\n",
       "    <tr>\n",
       "      <th>pickup_latitude</th>\n",
       "      <td>23.215191</td>\n",
       "      <td>-38.845825</td>\n",
       "      <td>-0.126495</td>\n",
       "      <td>28.986497</td>\n",
       "      <td>-40.238597</td>\n",
       "      <td>0.069856</td>\n",
       "      <td>0.200475</td>\n",
       "      <td>0.185117</td>\n",
       "      <td>-0.018304</td>\n",
       "      <td>0.255317</td>\n",
       "      <td>-0.322104</td>\n",
       "    </tr>\n",
       "    <tr>\n",
       "      <th>pickup_longitude</th>\n",
       "      <td>-38.836542</td>\n",
       "      <td>67.216747</td>\n",
       "      <td>0.199816</td>\n",
       "      <td>-40.238597</td>\n",
       "      <td>69.745644</td>\n",
       "      <td>-0.185226</td>\n",
       "      <td>-0.317979</td>\n",
       "      <td>-0.138284</td>\n",
       "      <td>0.076485</td>\n",
       "      <td>-0.414176</td>\n",
       "      <td>0.086325</td>\n",
       "    </tr>\n",
       "    <tr>\n",
       "      <th>Year</th>\n",
       "      <td>0.077247</td>\n",
       "      <td>-0.176327</td>\n",
       "      <td>0.145318</td>\n",
       "      <td>0.069856</td>\n",
       "      <td>-0.185226</td>\n",
       "      <td>3.391761</td>\n",
       "      <td>-0.925482</td>\n",
       "      <td>0.432605</td>\n",
       "      <td>0.030576</td>\n",
       "      <td>0.022023</td>\n",
       "      <td>-0.296526</td>\n",
       "    </tr>\n",
       "    <tr>\n",
       "      <th>Month</th>\n",
       "      <td>0.211210</td>\n",
       "      <td>-0.357515</td>\n",
       "      <td>-1.592351</td>\n",
       "      <td>0.200475</td>\n",
       "      <td>-0.317979</td>\n",
       "      <td>-0.925482</td>\n",
       "      <td>11.725432</td>\n",
       "      <td>-1.102710</td>\n",
       "      <td>-0.510192</td>\n",
       "      <td>1.338540</td>\n",
       "      <td>-1.470440</td>\n",
       "    </tr>\n",
       "    <tr>\n",
       "      <th>Date</th>\n",
       "      <td>0.048109</td>\n",
       "      <td>-0.245840</td>\n",
       "      <td>2.881611</td>\n",
       "      <td>0.185117</td>\n",
       "      <td>-0.138284</td>\n",
       "      <td>0.432605</td>\n",
       "      <td>-1.102710</td>\n",
       "      <td>76.496406</td>\n",
       "      <td>-0.359790</td>\n",
       "      <td>1.050359</td>\n",
       "      <td>5.062764</td>\n",
       "    </tr>\n",
       "    <tr>\n",
       "      <th>Day</th>\n",
       "      <td>-0.052963</td>\n",
       "      <td>0.092996</td>\n",
       "      <td>-0.259592</td>\n",
       "      <td>-0.018304</td>\n",
       "      <td>0.076485</td>\n",
       "      <td>0.030576</td>\n",
       "      <td>-0.510192</td>\n",
       "      <td>-0.359790</td>\n",
       "      <td>3.922572</td>\n",
       "      <td>-1.358721</td>\n",
       "      <td>-0.452012</td>\n",
       "    </tr>\n",
       "    <tr>\n",
       "      <th>Hour</th>\n",
       "      <td>0.264553</td>\n",
       "      <td>-0.399686</td>\n",
       "      <td>0.636739</td>\n",
       "      <td>0.255317</td>\n",
       "      <td>-0.414176</td>\n",
       "      <td>0.022023</td>\n",
       "      <td>1.338540</td>\n",
       "      <td>1.050359</td>\n",
       "      <td>-1.358721</td>\n",
       "      <td>44.291393</td>\n",
       "      <td>-3.362964</td>\n",
       "    </tr>\n",
       "    <tr>\n",
       "      <th>Minute</th>\n",
       "      <td>-0.202356</td>\n",
       "      <td>0.383804</td>\n",
       "      <td>-2.115660</td>\n",
       "      <td>-0.322104</td>\n",
       "      <td>0.086325</td>\n",
       "      <td>-0.296526</td>\n",
       "      <td>-1.470440</td>\n",
       "      <td>5.062764</td>\n",
       "      <td>-0.452012</td>\n",
       "      <td>-3.362964</td>\n",
       "      <td>318.033239</td>\n",
       "    </tr>\n",
       "  </tbody>\n",
       "</table>\n",
       "</div>"
      ],
      "text/plain": [
       "                   dropoff_latitude  dropoff_longitude  passenger_count  \\\n",
       "dropoff_latitude          23.846669         -39.880602        -0.118684   \n",
       "dropoff_longitude        -39.880602          69.701630         0.204275   \n",
       "passenger_count           -0.118684           0.204275      2287.336083   \n",
       "pickup_latitude           23.215191         -38.845825        -0.126495   \n",
       "pickup_longitude         -38.836542          67.216747         0.199816   \n",
       "Year                       0.077247          -0.176327         0.145318   \n",
       "Month                      0.211210          -0.357515        -1.592351   \n",
       "Date                       0.048109          -0.245840         2.881611   \n",
       "Day                       -0.052963           0.092996        -0.259592   \n",
       "Hour                       0.264553          -0.399686         0.636739   \n",
       "Minute                    -0.202356           0.383804        -2.115660   \n",
       "\n",
       "                   pickup_latitude  pickup_longitude      Year      Month  \\\n",
       "dropoff_latitude         23.215191        -38.836542  0.077247   0.211210   \n",
       "dropoff_longitude       -38.845825         67.216747 -0.176327  -0.357515   \n",
       "passenger_count          -0.126495          0.199816  0.145318  -1.592351   \n",
       "pickup_latitude          28.986497        -40.238597  0.069856   0.200475   \n",
       "pickup_longitude        -40.238597         69.745644 -0.185226  -0.317979   \n",
       "Year                      0.069856         -0.185226  3.391761  -0.925482   \n",
       "Month                     0.200475         -0.317979 -0.925482  11.725432   \n",
       "Date                      0.185117         -0.138284  0.432605  -1.102710   \n",
       "Day                      -0.018304          0.076485  0.030576  -0.510192   \n",
       "Hour                      0.255317         -0.414176  0.022023   1.338540   \n",
       "Minute                   -0.322104          0.086325 -0.296526  -1.470440   \n",
       "\n",
       "                        Date       Day       Hour      Minute  \n",
       "dropoff_latitude    0.048109 -0.052963   0.264553   -0.202356  \n",
       "dropoff_longitude  -0.245840  0.092996  -0.399686    0.383804  \n",
       "passenger_count     2.881611 -0.259592   0.636739   -2.115660  \n",
       "pickup_latitude     0.185117 -0.018304   0.255317   -0.322104  \n",
       "pickup_longitude   -0.138284  0.076485  -0.414176    0.086325  \n",
       "Year                0.432605  0.030576   0.022023   -0.296526  \n",
       "Month              -1.102710 -0.510192   1.338540   -1.470440  \n",
       "Date               76.496406 -0.359790   1.050359    5.062764  \n",
       "Day                -0.359790  3.922572  -1.358721   -0.452012  \n",
       "Hour                1.050359 -1.358721  44.291393   -3.362964  \n",
       "Minute              5.062764 -0.452012  -3.362964  318.033239  "
      ]
     },
     "execution_count": 28,
     "metadata": {},
     "output_type": "execute_result"
    }
   ],
   "source": [
    "df.cov()"
   ]
  },
  {
   "cell_type": "code",
   "execution_count": 29,
   "metadata": {},
   "outputs": [
    {
     "name": "stdout",
     "output_type": "stream",
     "text": [
      "dropoff_latitude       144.760148\n",
      "dropoff_longitude       78.817845\n",
      "passenger_count      11970.220990\n",
      "pickup_latitude        874.328133\n",
      "pickup_longitude        78.798656\n",
      "Year                    -1.140979\n",
      "Month                   -1.184661\n",
      "Date                    -1.212147\n",
      "Day                     -1.252835\n",
      "Hour                    -0.863835\n",
      "Minute                  -1.231601\n",
      "dtype: float64\n"
     ]
    }
   ],
   "source": [
    "kurt = df.kurt();\n",
    "print(kurt);"
   ]
  },
  {
   "cell_type": "code",
   "execution_count": 30,
   "metadata": {},
   "outputs": [
    {
     "name": "stdout",
     "output_type": "stream",
     "text": [
      "0    1.0\n",
      "1    1.0\n",
      "2    2.0\n",
      "3    1.0\n",
      "4    1.0\n",
      "Name: passenger_count, dtype: float64\n",
      "nan\n",
      "p-values nan\n",
      "we are accepting null hypothesis\n"
     ]
    }
   ],
   "source": [
    "from scipy.stats import ttest_1samp\n",
    "import numpy as np\n",
    "\n",
    "print(df['passenger_count'].head())\n",
    "passenger_count_mean = np.mean(df['passenger_count'].values)\n",
    "print(passenger_count_mean)\n",
    "tset, pval = ttest_1samp(passenger_count_mean, 4)\n",
    "print('p-values',pval)\n",
    "if pval < 0.05:    # alpha value is 0.05 or 5%\n",
    "   print(\" we are rejecting null hypothesis\")\n",
    "else:\n",
    "  print(\"we are accepting null hypothesis\")"
   ]
  },
  {
   "cell_type": "markdown",
   "metadata": {},
   "source": [
    "### Summary\n",
    "1. We need to perform many statastical techniques like mean, median, mode, skew etcc.. on data to understand it better."
   ]
  },
  {
   "cell_type": "markdown",
   "metadata": {},
   "source": [
    "# Missing Value Analysis"
   ]
  },
  {
   "cell_type": "code",
   "execution_count": 31,
   "metadata": {},
   "outputs": [],
   "source": [
    "#replace 0 with NA in the variables and convert the data wherever required for further operations\n",
    "\n",
    "df['fare_amount']= df['fare_amount'].apply(pd.to_numeric, errors='coerce')\n",
    "df['fare_amount']= df['fare_amount'].replace({0:np.nan})\n",
    "df['passenger_count']=df['passenger_count'].fillna(0)\n",
    "df['passenger_count']= df['passenger_count'].astype(int)\n",
    "df['passenger_count']=df['passenger_count'].replace({0: np.nan})\n",
    "df['pickup_longitude']= df['pickup_longitude'].replace({0:np.nan})\n",
    "df['pickup_latitude']= df['pickup_latitude'].replace({0:np.nan})\n",
    "df['dropoff_longitude']= df['dropoff_longitude'].replace({0:np.nan})\n",
    "df['dropoff_latitude']= df['dropoff_latitude'].replace({0:np.nan})"
   ]
  },
  {
   "cell_type": "code",
   "execution_count": 32,
   "metadata": {},
   "outputs": [],
   "source": [
    "#Eliminate rows where the pickup and drop location points are same\n",
    "df[['pickup_longitude','dropoff_longitude']].drop_duplicates(keep=False,inplace=True)\n",
    "df[['pickup_latitude','dropoff_latitude']].drop_duplicates(keep=False,inplace=True) \n",
    "#df[['pickup_longitude','dropoff_longitude']]"
   ]
  },
  {
   "cell_type": "code",
   "execution_count": 33,
   "metadata": {},
   "outputs": [
    {
     "name": "stdout",
     "output_type": "stream",
     "text": [
      "            Variables  Missing_percentage\n",
      "0         fare_amount           38.257824\n",
      "1     pickup_latitude            1.212518\n",
      "2    pickup_longitude            1.212518\n",
      "3   dropoff_longitude            1.208669\n",
      "4    dropoff_latitude            1.200970\n",
      "5     passenger_count            0.434967\n",
      "6                Year            0.000000\n",
      "7               Month            0.000000\n",
      "8                Date            0.000000\n",
      "9                 Day            0.000000\n",
      "10               Hour            0.000000\n",
      "11             Minute            0.000000\n"
     ]
    }
   ],
   "source": [
    "#Create dataframe with missing percentage\n",
    "missing_val = pd.DataFrame(df.isnull().sum())\n",
    "\n",
    "#Reset index\n",
    "missing_val = missing_val.reset_index()\n",
    "\n",
    "#Rename variable\n",
    "missing_val = missing_val.rename(columns = {'index': 'Variables', 0: 'Missing_percentage'})\n",
    "\n",
    "#Calculate percentage\n",
    "missing_val['Missing_percentage'] = (missing_val['Missing_percentage']/len(df))*100\n",
    "\n",
    "#descending order\n",
    "missing_val = missing_val.sort_values('Missing_percentage', ascending = False).reset_index(drop = True)\n",
    "\n",
    "print(missing_val)\n",
    "#save output results \n",
    "#missing_val.to_csv(\"Miising_perc.csv\", inex = False)"
   ]
  },
  {
   "cell_type": "code",
   "execution_count": 34,
   "metadata": {},
   "outputs": [],
   "source": [
    "df = df.dropna(subset=['pickup_longitude', 'pickup_latitude',\n",
    "                       'dropoff_longitude','dropoff_latitude','passenger_count'],axis = 0)"
   ]
  },
  {
   "cell_type": "code",
   "execution_count": 35,
   "metadata": {},
   "outputs": [
    {
     "name": "stdout",
     "output_type": "stream",
     "text": [
      "            Variables  Missing_percentage\n",
      "0         fare_amount           38.904549\n",
      "1    dropoff_latitude            0.000000\n",
      "2   dropoff_longitude            0.000000\n",
      "3     passenger_count            0.000000\n",
      "4     pickup_latitude            0.000000\n",
      "5    pickup_longitude            0.000000\n",
      "6                Year            0.000000\n",
      "7               Month            0.000000\n",
      "8                Date            0.000000\n",
      "9                 Day            0.000000\n",
      "10               Hour            0.000000\n",
      "11             Minute            0.000000\n"
     ]
    }
   ],
   "source": [
    "#Create dataframe with missing percentage\n",
    "missing_val = pd.DataFrame(df.isnull().sum())\n",
    "\n",
    "#Reset index\n",
    "missing_val = missing_val.reset_index()\n",
    "\n",
    "#Rename variable\n",
    "missing_val = missing_val.rename(columns = {'index': 'Variables', 0: 'Missing_percentage'})\n",
    "\n",
    "#Calculate percentage\n",
    "missing_val['Missing_percentage'] = (missing_val['Missing_percentage']/len(df))*100\n",
    "\n",
    "#descending order\n",
    "missing_val = missing_val.sort_values('Missing_percentage', ascending = False).reset_index(drop = True)\n",
    "\n",
    "print(missing_val)\n",
    "#save output results \n",
    "#missing_val.to_csv(\"Miising_perc.csv\", inex = False)"
   ]
  },
  {
   "cell_type": "markdown",
   "metadata": {},
   "source": [
    "# Missing Value Imputation"
   ]
  },
  {
   "cell_type": "markdown",
   "metadata": {},
   "source": [
    "Framework\n",
    "\n",
    " 1. Create a small subset of data with complete observations\n",
    " 2. Delete some values manually\n",
    " 3. Use multiple methods to fill\n",
    " 4. See where they are failing\n",
    " 5. Choose the best method"
   ]
  },
  {
   "cell_type": "code",
   "execution_count": 36,
   "metadata": {},
   "outputs": [
    {
     "name": "stdout",
     "output_type": "stream",
     "text": [
      "Actual value :  27.5\n"
     ]
    }
   ],
   "source": [
    "#Create missing value, a small test to identify which method is good for imputation\n",
    "\n",
    "x = df[\"fare_amount\"].loc[10055]\n",
    "print(\"Actual value : \",x)"
   ]
  },
  {
   "cell_type": "code",
   "execution_count": 37,
   "metadata": {},
   "outputs": [],
   "source": [
    "df[\"fare_amount\"].loc[10055] = np.nan"
   ]
  },
  {
   "cell_type": "code",
   "execution_count": 38,
   "metadata": {},
   "outputs": [
    {
     "name": "stdout",
     "output_type": "stream",
     "text": [
      "Mean Imputation :  15.120249935913721\n"
     ]
    }
   ],
   "source": [
    "#Mean Imputation\n",
    "df[\"fare_amount\"] = df[\"fare_amount\"].fillna(df[\"fare_amount\"].mean())\n",
    "\n",
    "print(\"Mean Imputation : \",df[\"fare_amount\"].loc[10055])\n",
    "\n",
    "df[\"fare_amount\"].loc[10055] = x"
   ]
  },
  {
   "cell_type": "code",
   "execution_count": 39,
   "metadata": {},
   "outputs": [
    {
     "name": "stdout",
     "output_type": "stream",
     "text": [
      "Median Imputation :  27.5\n"
     ]
    }
   ],
   "source": [
    "#Median Imputation\n",
    "df[\"fare_amount\"] = df[\"fare_amount\"].fillna(df[\"fare_amount\"].median())\n",
    "\n",
    "print(\"Median Imputation : \",df[\"fare_amount\"].loc[10055])\n",
    "\n",
    "df[\"fare_amount\"].loc[25] = x"
   ]
  },
  {
   "cell_type": "code",
   "execution_count": 40,
   "metadata": {},
   "outputs": [],
   "source": [
    "#KNN imputation - Got some error while installing the \"pip install fancyimpute\".\n",
    "#df = pd.DataFrame(KNN(k = 1).fit_transform(df), columns = df.columns)\n",
    "#print(\"KNN imputation : \",df[\"fare_amount\"].loc[10055])\n",
    "#df[\"fare_amount\"].loc[25] = x"
   ]
  },
  {
   "cell_type": "code",
   "execution_count": 41,
   "metadata": {},
   "outputs": [],
   "source": [
    "#As it is found median is very close to original method we will proceed with imputation via mean\n",
    "df['fare_amount'] = df['fare_amount'].fillna(df['fare_amount'].median())"
   ]
  },
  {
   "cell_type": "code",
   "execution_count": 42,
   "metadata": {},
   "outputs": [],
   "source": [
    "#Imputing the NAs in target variables may hamper the model, so it is preferred to remove NA rows of the data\n",
    "df=df.dropna()"
   ]
  },
  {
   "cell_type": "code",
   "execution_count": 43,
   "metadata": {},
   "outputs": [],
   "source": [
    "#conert into proper data type\n",
    "convert_datatype={'fare_amount' : 'float','passenger_count': 'int'}\n",
    "df=df.astype(convert_datatype)"
   ]
  },
  {
   "cell_type": "code",
   "execution_count": 44,
   "metadata": {},
   "outputs": [
    {
     "data": {
      "text/plain": [
       "(25542, 12)"
      ]
     },
     "execution_count": 44,
     "metadata": {},
     "output_type": "execute_result"
    }
   ],
   "source": [
    "df.shape"
   ]
  },
  {
   "cell_type": "code",
   "execution_count": 45,
   "metadata": {},
   "outputs": [
    {
     "name": "stdout",
     "output_type": "stream",
     "text": [
      "Data types :\n",
      " dropoff_latitude     float64\n",
      "dropoff_longitude    float64\n",
      "fare_amount          float64\n",
      "passenger_count        int32\n",
      "pickup_latitude      float64\n",
      "pickup_longitude     float64\n",
      "Year                   int64\n",
      "Month                  int64\n",
      "Date                   int64\n",
      "Day                    int64\n",
      "Hour                   int64\n",
      "Minute                 int64\n",
      "dtype: object\n",
      "====================================================================================================\n",
      "Missing values count :\n",
      " dropoff_latitude     0\n",
      "dropoff_longitude    0\n",
      "fare_amount          0\n",
      "passenger_count      0\n",
      "pickup_latitude      0\n",
      "pickup_longitude     0\n",
      "Year                 0\n",
      "Month                0\n",
      "Date                 0\n",
      "Day                  0\n",
      "Hour                 0\n",
      "Minute               0\n",
      "dtype: int64\n"
     ]
    }
   ],
   "source": [
    "print(\"Data types :\\n\",df.dtypes)\n",
    "print(\"=\"*100)\n",
    "print(\"Missing values count :\\n\",df.isnull().sum())"
   ]
  },
  {
   "cell_type": "code",
   "execution_count": 46,
   "metadata": {},
   "outputs": [
    {
     "data": {
      "text/plain": [
       "1       17933\n",
       "2        3760\n",
       "5        1721\n",
       "3        1110\n",
       "4         527\n",
       "6         473\n",
       "43          2\n",
       "536         1\n",
       "537         1\n",
       "554         1\n",
       "354         1\n",
       "58          1\n",
       "35          1\n",
       "531         1\n",
       "5345        1\n",
       "5334        1\n",
       "456         1\n",
       "345         1\n",
       "53          1\n",
       "55          1\n",
       "87          1\n",
       "535         1\n",
       "557         1\n",
       "Name: passenger_count, dtype: int64"
      ]
     },
     "execution_count": 46,
     "metadata": {},
     "output_type": "execute_result"
    }
   ],
   "source": [
    "df['passenger_count'].value_counts()"
   ]
  },
  {
   "cell_type": "markdown",
   "metadata": {},
   "source": [
    "# Outlier Analysis"
   ]
  },
  {
   "cell_type": "code",
   "execution_count": 47,
   "metadata": {},
   "outputs": [],
   "source": [
    "#save the data with in another place with different name\n",
    "\n",
    "train_df = df.copy()\n"
   ]
  },
  {
   "cell_type": "code",
   "execution_count": 48,
   "metadata": {},
   "outputs": [],
   "source": [
    "train_df = train_df.drop(train_df[train_df[\"passenger_count\"]> 6 ].index, axis=0)\n",
    "train_df = train_df.drop(train_df[train_df[\"fare_amount\"] < 0 ].index, axis=0)"
   ]
  },
  {
   "cell_type": "code",
   "execution_count": 49,
   "metadata": {},
   "outputs": [
    {
     "data": {
      "text/plain": [
       "1    17917\n",
       "2     3760\n",
       "5     1721\n",
       "3     1105\n",
       "4      525\n",
       "6      473\n",
       "Name: passenger_count, dtype: int64"
      ]
     },
     "execution_count": 49,
     "metadata": {},
     "output_type": "execute_result"
    }
   ],
   "source": [
    "train_df['passenger_count'].value_counts()"
   ]
  },
  {
   "cell_type": "code",
   "execution_count": 79,
   "metadata": {},
   "outputs": [
    {
     "data": {
      "image/png": "[encoded data removed]",
      "text/plain": [
       "<Figure size 432x288 with 1 Axes>"
      ]
     },
     "metadata": {},
     "output_type": "display_data"
    }
   ],
   "source": [
    "sns.boxplot(y='passenger_count', data=train_df)\n",
    "plt.title('Box plot and Whiskers')\n",
    "plt.show()"
   ]
  },
  {
   "cell_type": "code",
   "execution_count": 80,
   "metadata": {},
   "outputs": [
    {
     "data": {
      "image/png": "[encoded data removed]",
      "text/plain": [
       "<Figure size 432x288 with 1 Axes>"
      ]
     },
     "metadata": {},
     "output_type": "display_data"
    }
   ],
   "source": [
    "sns.boxplot(y='fare_amount', data=train_df)\n",
    "plt.title('Box plot and Whiskers')\n",
    "plt.show()"
   ]
  },
  {
   "cell_type": "code",
   "execution_count": 50,
   "metadata": {},
   "outputs": [
    {
     "data": {
      "text/plain": [
       "Index(['dropoff_latitude', 'dropoff_longitude', 'fare_amount',\n",
       "       'passenger_count', 'pickup_latitude', 'pickup_longitude', 'Year',\n",
       "       'Month', 'Date', 'Day', 'Hour', 'Minute'],\n",
       "      dtype='object')"
      ]
     },
     "execution_count": 50,
     "metadata": {},
     "output_type": "execute_result"
    }
   ],
   "source": [
    "train_df.columns"
   ]
  },
  {
   "cell_type": "code",
   "execution_count": 51,
   "metadata": {},
   "outputs": [
    {
     "name": "stdout",
     "output_type": "stream",
     "text": [
      "Data types :\n",
      " dropoff_latitude     float64\n",
      "dropoff_longitude    float64\n",
      "fare_amount          float64\n",
      "passenger_count        int32\n",
      "pickup_latitude      float64\n",
      "pickup_longitude     float64\n",
      "Year                   int64\n",
      "Month                  int64\n",
      "Date                   int64\n",
      "Day                    int64\n",
      "Hour                   int64\n",
      "Minute                 int64\n",
      "dtype: object\n",
      "====================================================================================================\n",
      "Missing values count :\n",
      " dropoff_latitude     0\n",
      "dropoff_longitude    0\n",
      "fare_amount          0\n",
      "passenger_count      0\n",
      "pickup_latitude      0\n",
      "pickup_longitude     0\n",
      "Year                 0\n",
      "Month                0\n",
      "Date                 0\n",
      "Day                  0\n",
      "Hour                 0\n",
      "Minute               0\n",
      "dtype: int64\n"
     ]
    }
   ],
   "source": [
    "print(\"Data types :\\n\",train_df.dtypes)\n",
    "print(\"=\"*100)\n",
    "print(\"Missing values count :\\n\",train_df.isnull().sum())"
   ]
  },
  {
   "cell_type": "code",
   "execution_count": 52,
   "metadata": {},
   "outputs": [],
   "source": [
    "#save numeric data names\n",
    "col = ['dropoff_latitude', 'dropoff_longitude', 'pickup_latitude', 'pickup_longitude', 'Year',\n",
    "       'Month', 'Date', 'Day', 'Hour', 'Minute']\n",
    "for lst in col:\n",
    "    #Detect and replace with NA\n",
    "    #Extract quartiles\n",
    "    q75, q25 = np.percentile(train_df[lst], [75 ,25])\n",
    "\n",
    "    #Calculate IQR\n",
    "    iqr = q75 - q25\n",
    "   \n",
    "    # #Calculate inner and outer fence\n",
    "    minimum = q25 - (iqr*1.5)\n",
    "    maximum = q75 + (iqr*1.5)\n",
    "\n",
    "    # #Replace with NA\n",
    "    train_df.loc[train_df[lst] < minimum,lst] = np.nan\n",
    "    train_df.loc[train_df[lst] > maximum,lst] = np.nan\n",
    "\n",
    "    # #Calculate missing value\n",
    "    missing_val = pd.DataFrame(train_df.isnull().sum())\n",
    "    \n"
   ]
  },
  {
   "cell_type": "code",
   "execution_count": 53,
   "metadata": {},
   "outputs": [],
   "source": [
    "#As Mean is the best method, we impute missing values/ in this case outlier values with mean\n",
    "\n",
    "train_df['pickup_longitude'] = train_df['pickup_longitude'].fillna(train_df['pickup_longitude'].median())\n",
    "train_df['pickup_latitude'] = train_df['pickup_latitude'].fillna(train_df['pickup_latitude'].median())\n",
    "train_df['dropoff_longitude'] = train_df['dropoff_longitude'].fillna(train_df['dropoff_longitude'].median())\n",
    "train_df['dropoff_latitude'] = train_df['dropoff_latitude'].fillna(train_df['dropoff_latitude'].median())\n",
    "\n",
    "#imputed with mode for categorical variables\n",
    "#train_df['passenger_count'] = train_df['passenger_count'].fillna(int(train_df['passenger_count'].mode()))"
   ]
  },
  {
   "cell_type": "code",
   "execution_count": 54,
   "metadata": {},
   "outputs": [],
   "source": [
    "#convert the data type of categorical variable passenger count\n",
    "#train_df['passenger_count']=train_df['passenger_count'].astype('int')\n",
    "#train_df['passenger_count']=train_df['passenger_count'].astype('category')"
   ]
  },
  {
   "cell_type": "code",
   "execution_count": 55,
   "metadata": {},
   "outputs": [
    {
     "name": "stdout",
     "output_type": "stream",
     "text": [
      "Data types :\n",
      " dropoff_latitude     float64\n",
      "dropoff_longitude    float64\n",
      "fare_amount          float64\n",
      "passenger_count        int32\n",
      "pickup_latitude      float64\n",
      "pickup_longitude     float64\n",
      "Year                 float64\n",
      "Month                float64\n",
      "Date                 float64\n",
      "Day                  float64\n",
      "Hour                 float64\n",
      "Minute               float64\n",
      "dtype: object\n",
      "====================================================================================================\n",
      "Missing values count :\n",
      " dropoff_latitude     0\n",
      "dropoff_longitude    0\n",
      "fare_amount          0\n",
      "passenger_count      0\n",
      "pickup_latitude      0\n",
      "pickup_longitude     0\n",
      "Year                 0\n",
      "Month                0\n",
      "Date                 0\n",
      "Day                  0\n",
      "Hour                 0\n",
      "Minute               0\n",
      "dtype: int64\n"
     ]
    }
   ],
   "source": [
    "print(\"Data types :\\n\",train_df.dtypes)\n",
    "print(\"=\"*100)\n",
    "print(\"Missing values count :\\n\",train_df.isnull().sum())"
   ]
  },
  {
   "cell_type": "code",
   "execution_count": 56,
   "metadata": {},
   "outputs": [
    {
     "name": "stdout",
     "output_type": "stream",
     "text": [
      "Data types :\n",
      " dropoff_latitude     float64\n",
      "dropoff_longitude    float64\n",
      "fare_amount          float64\n",
      "passenger_count        int32\n",
      "pickup_latitude      float64\n",
      "pickup_longitude     float64\n",
      "Year                 float64\n",
      "Month                float64\n",
      "Date                 float64\n",
      "Day                  float64\n",
      "Hour                 float64\n",
      "Minute               float64\n",
      "dtype: object\n"
     ]
    }
   ],
   "source": [
    "print(\"Data types :\\n\",train_df.dtypes)"
   ]
  },
  {
   "cell_type": "code",
   "execution_count": 57,
   "metadata": {},
   "outputs": [],
   "source": [
    "#conert into proper data type\n",
    "intg = [\"Year\",\"Month\",\"Date\",\"Day\",\"Hour\",\"Minute\"]\n",
    "\n",
    "for i in intg:\n",
    "    train_df[i] = train_df[i].astype(int)"
   ]
  },
  {
   "cell_type": "code",
   "execution_count": 58,
   "metadata": {},
   "outputs": [
    {
     "data": {
      "text/html": [
       "<div>\n",
       "<style scoped>\n",
       "    .dataframe tbody tr th:only-of-type {\n",
       "        vertical-align: middle;\n",
       "    }\n",
       "\n",
       "    .dataframe tbody tr th {\n",
       "        vertical-align: top;\n",
       "    }\n",
       "\n",
       "    .dataframe thead th {\n",
       "        text-align: right;\n",
       "    }\n",
       "</style>\n",
       "<table border=\"1\" class=\"dataframe\">\n",
       "  <thead>\n",
       "    <tr style=\"text-align: right;\">\n",
       "      <th></th>\n",
       "      <th>dropoff_latitude</th>\n",
       "      <th>dropoff_longitude</th>\n",
       "      <th>fare_amount</th>\n",
       "      <th>passenger_count</th>\n",
       "      <th>pickup_latitude</th>\n",
       "      <th>pickup_longitude</th>\n",
       "      <th>Year</th>\n",
       "      <th>Month</th>\n",
       "      <th>Date</th>\n",
       "      <th>Day</th>\n",
       "      <th>Hour</th>\n",
       "      <th>Minute</th>\n",
       "    </tr>\n",
       "  </thead>\n",
       "  <tbody>\n",
       "    <tr>\n",
       "      <th>0</th>\n",
       "      <td>40.712278</td>\n",
       "      <td>-73.981399</td>\n",
       "      <td>4.5</td>\n",
       "      <td>1</td>\n",
       "      <td>40.721319</td>\n",
       "      <td>-73.982876</td>\n",
       "      <td>2009</td>\n",
       "      <td>6</td>\n",
       "      <td>15</td>\n",
       "      <td>0</td>\n",
       "      <td>17</td>\n",
       "      <td>26</td>\n",
       "    </tr>\n",
       "    <tr>\n",
       "      <th>1</th>\n",
       "      <td>40.782004</td>\n",
       "      <td>-73.979268</td>\n",
       "      <td>16.9</td>\n",
       "      <td>1</td>\n",
       "      <td>40.711303</td>\n",
       "      <td>-74.016048</td>\n",
       "      <td>2010</td>\n",
       "      <td>1</td>\n",
       "      <td>5</td>\n",
       "      <td>1</td>\n",
       "      <td>16</td>\n",
       "      <td>52</td>\n",
       "    </tr>\n",
       "    <tr>\n",
       "      <th>2</th>\n",
       "      <td>40.750562</td>\n",
       "      <td>-73.991242</td>\n",
       "      <td>5.7</td>\n",
       "      <td>2</td>\n",
       "      <td>40.761270</td>\n",
       "      <td>-73.982738</td>\n",
       "      <td>2011</td>\n",
       "      <td>8</td>\n",
       "      <td>18</td>\n",
       "      <td>3</td>\n",
       "      <td>0</td>\n",
       "      <td>35</td>\n",
       "    </tr>\n",
       "    <tr>\n",
       "      <th>3</th>\n",
       "      <td>40.758092</td>\n",
       "      <td>-73.991567</td>\n",
       "      <td>7.7</td>\n",
       "      <td>1</td>\n",
       "      <td>40.733143</td>\n",
       "      <td>-73.987130</td>\n",
       "      <td>2012</td>\n",
       "      <td>4</td>\n",
       "      <td>21</td>\n",
       "      <td>5</td>\n",
       "      <td>4</td>\n",
       "      <td>30</td>\n",
       "    </tr>\n",
       "    <tr>\n",
       "      <th>4</th>\n",
       "      <td>40.783762</td>\n",
       "      <td>-73.956655</td>\n",
       "      <td>5.3</td>\n",
       "      <td>1</td>\n",
       "      <td>40.768008</td>\n",
       "      <td>-73.968095</td>\n",
       "      <td>2010</td>\n",
       "      <td>3</td>\n",
       "      <td>9</td>\n",
       "      <td>1</td>\n",
       "      <td>7</td>\n",
       "      <td>51</td>\n",
       "    </tr>\n",
       "  </tbody>\n",
       "</table>\n",
       "</div>"
      ],
      "text/plain": [
       "   dropoff_latitude  dropoff_longitude  fare_amount  passenger_count  \\\n",
       "0         40.712278         -73.981399          4.5                1   \n",
       "1         40.782004         -73.979268         16.9                1   \n",
       "2         40.750562         -73.991242          5.7                2   \n",
       "3         40.758092         -73.991567          7.7                1   \n",
       "4         40.783762         -73.956655          5.3                1   \n",
       "\n",
       "   pickup_latitude  pickup_longitude  Year  Month  Date  Day  Hour  Minute  \n",
       "0        40.721319        -73.982876  2009      6    15    0    17      26  \n",
       "1        40.711303        -74.016048  2010      1     5    1    16      52  \n",
       "2        40.761270        -73.982738  2011      8    18    3     0      35  \n",
       "3        40.733143        -73.987130  2012      4    21    5     4      30  \n",
       "4        40.768008        -73.968095  2010      3     9    1     7      51  "
      ]
     },
     "execution_count": 58,
     "metadata": {},
     "output_type": "execute_result"
    }
   ],
   "source": [
    "train_df.head()"
   ]
  },
  {
   "cell_type": "markdown",
   "metadata": {},
   "source": [
    "# Feature Selection"
   ]
  },
  {
   "cell_type": "code",
   "execution_count": 59,
   "metadata": {},
   "outputs": [
    {
     "data": {
      "text/plain": [
       "<matplotlib.axes._subplots.AxesSubplot at 0xb9a1b00>"
      ]
     },
     "execution_count": 59,
     "metadata": {},
     "output_type": "execute_result"
    },
    {
     "data": {
      "image/png": "[encoded data removed]",
      "text/plain": [
       "<Figure size 504x360 with 2 Axes>"
      ]
     },
     "metadata": {},
     "output_type": "display_data"
    }
   ],
   "source": [
    "#Set the width and hieght of the plot\n",
    "f, ax = plt.subplots(figsize=(7, 5))\n",
    "\n",
    "corr = train_df.corr(method ='pearson')\n",
    "#Plot using seaborn library\n",
    "sns.heatmap(corr, mask=np.zeros_like(corr, dtype=np.bool), cmap=sns.diverging_palette(220, 10, as_cmap=True),\n",
    "            square=True, ax=ax)"
   ]
  },
  {
   "cell_type": "markdown",
   "metadata": {},
   "source": [
    "## Feature Scaling"
   ]
  },
  {
   "cell_type": "code",
   "execution_count": 60,
   "metadata": {},
   "outputs": [
    {
     "name": "stdout",
     "output_type": "stream",
     "text": [
      "1    17917\n",
      "2     3760\n",
      "5     1721\n",
      "3     1105\n",
      "4      525\n",
      "6      473\n",
      "Name: passenger_count, dtype: int64\n"
     ]
    },
    {
     "data": {
      "image/png": "[encoded data removed]",
      "text/plain": [
       "<Figure size 432x288 with 1 Axes>"
      ]
     },
     "metadata": {},
     "output_type": "display_data"
    }
   ],
   "source": [
    "count = train_df['passenger_count'].value_counts()\n",
    "print(count)\n",
    "count.plot(kind='bar', title='passenger_count', rot = 'horizontal');"
   ]
  },
  {
   "cell_type": "code",
   "execution_count": 61,
   "metadata": {},
   "outputs": [],
   "source": [
    "cnames = ['dropoff_latitude', 'dropoff_longitude',\n",
    "          'pickup_latitude', 'pickup_longitude', 'Year','Month', 'Date', 'Day', 'Hour', 'Minute']"
   ]
  },
  {
   "cell_type": "code",
   "execution_count": 62,
   "metadata": {},
   "outputs": [
    {
     "name": "stdout",
     "output_type": "stream",
     "text": [
      "dropoff_latitude\n",
      "dropoff_longitude\n",
      "pickup_latitude\n",
      "pickup_longitude\n",
      "Year\n",
      "Month\n",
      "Date\n",
      "Day\n",
      "Hour\n",
      "Minute\n"
     ]
    }
   ],
   "source": [
    "#Nomalisation\n",
    "for i in cnames:\n",
    "    print(i)\n",
    "    train_df[i] = (train_df[i] - min(train_df[i]))/(max(train_df[i]) - min(train_df[i]))"
   ]
  },
  {
   "cell_type": "code",
   "execution_count": 63,
   "metadata": {},
   "outputs": [
    {
     "name": "stdout",
     "output_type": "stream",
     "text": [
      "Data types :\n",
      " dropoff_latitude     float64\n",
      "dropoff_longitude    float64\n",
      "fare_amount          float64\n",
      "passenger_count        int32\n",
      "pickup_latitude      float64\n",
      "pickup_longitude     float64\n",
      "Year                 float64\n",
      "Month                float64\n",
      "Date                 float64\n",
      "Day                  float64\n",
      "Hour                 float64\n",
      "Minute               float64\n",
      "dtype: object\n",
      "====================================================================================================\n",
      "Missing values count :\n",
      " dropoff_latitude     0\n",
      "dropoff_longitude    0\n",
      "fare_amount          0\n",
      "passenger_count      0\n",
      "pickup_latitude      0\n",
      "pickup_longitude     0\n",
      "Year                 0\n",
      "Month                0\n",
      "Date                 0\n",
      "Day                  0\n",
      "Hour                 0\n",
      "Minute               0\n",
      "dtype: int64\n"
     ]
    }
   ],
   "source": [
    "print(\"Data types :\\n\",train_df.dtypes)\n",
    "print(\"=\"*100)\n",
    "print(\"Missing values count :\\n\",train_df.isnull().sum())"
   ]
  },
  {
   "cell_type": "markdown",
   "metadata": {},
   "source": [
    "# Splitting data into Train and test: Random Sampling"
   ]
  },
  {
   "cell_type": "code",
   "execution_count": 64,
   "metadata": {},
   "outputs": [
    {
     "name": "stdout",
     "output_type": "stream",
     "text": [
      "Train shape: (17085, 11) (17085,)\n",
      "Test Shape: (8416, 11) (8416,)\n",
      "====================================================================================================\n"
     ]
    }
   ],
   "source": [
    "df_final = train_df.copy()\n",
    "Y = df_final['fare_amount'].values\n",
    "df_final.drop('fare_amount', axis=1, inplace=True)\n",
    "X = df_final\n",
    "\n",
    "# https://scikit-learn.org/stable/modules/generated/sklearn.model_selection.train_test_split.html\n",
    "from sklearn.model_selection import train_test_split\n",
    "\n",
    "# Splitting train & test data.\n",
    "\n",
    "X_train, X_test, y_train, y_test = train_test_split(X, Y, test_size=0.33, random_state=42)\n",
    "\n",
    "# this is Stratified splitting\n",
    "print('Train shape:',X_train.shape, y_train.shape)\n",
    "print('Test Shape:',X_test.shape, y_test.shape)\n",
    "print(\"=\"*100)"
   ]
  },
  {
   "cell_type": "markdown",
   "metadata": {},
   "source": [
    "# Model Development"
   ]
  },
  {
   "cell_type": "code",
   "execution_count": 65,
   "metadata": {},
   "outputs": [],
   "source": [
    "from sklearn.linear_model import LinearRegression,Ridge,Lasso\n",
    "from sklearn.neighbors import KNeighborsRegressor\n",
    "from sklearn.ensemble import RandomForestRegressor\n",
    "from sklearn.tree import DecisionTreeRegressor\n",
    "from xgboost import XGBRegressor\n",
    "import xgboost as xgb\n",
    "\n",
    "from sklearn.metrics import mean_squared_error\n",
    "from sklearn import metrics"
   ]
  },
  {
   "cell_type": "code",
   "execution_count": 66,
   "metadata": {},
   "outputs": [],
   "source": [
    "X_train = X_train\n",
    "y_train = y_train\n",
    "X_test = X_test\n",
    "y_test = y_test"
   ]
  },
  {
   "cell_type": "code",
   "execution_count": 67,
   "metadata": {},
   "outputs": [],
   "source": [
    "def model_and_metrics(X_train, y_train, X_test, y_test, model):\n",
    "\n",
    "    \"\"\" Common function for Model BuildUP & metrics \"\"\"\n",
    "    \n",
    "    print(\"===================Building the model... ===========================\")\n",
    "    model = model\n",
    "    #Train the algorithm\n",
    "    model.fit(X_train, y_train)\n",
    "    # predict the response\n",
    "    y_pred = model.predict(X_test)\n",
    "    print(\"Model {} ran successfully..\".format(model))\n",
    "    print('\\n')\n",
    "\n",
    "    print(\"======================== Score's ===================================\")\n",
    "    print('r square : ', metrics.r2_score(y_test, y_pred))\n",
    "    print('Adjusted r square : {}'.format(1 - (1-metrics.r2_score(y_test, y_pred))*\n",
    "                                          (len(y_test)-1)/(len(y_test)-X_train.shape[1]-1)))\n",
    "    print('MAPE : {}'.format(np.mean(np.abs((y_test - y_pred) / y_test))*100))\n",
    "    print('MSE :', metrics.mean_squared_error(y_test, y_pred))\n",
    "    print('RMSE :', np.sqrt(metrics.mean_squared_error(y_test, y_pred)))"
   ]
  },
  {
   "cell_type": "markdown",
   "metadata": {},
   "source": [
    "# LinearRegression"
   ]
  },
  {
   "cell_type": "code",
   "execution_count": 68,
   "metadata": {},
   "outputs": [
    {
     "name": "stdout",
     "output_type": "stream",
     "text": [
      "===================Building the model... ===========================\n",
      "Model LinearRegression(copy_X=True, fit_intercept=True, n_jobs=1, normalize=False) ran successfully..\n",
      "\n",
      "\n",
      "======================== Score's ===================================\n",
      "r square :  -0.062267888135728144\n",
      "Adjusted r square : -0.06365829113067023\n",
      "MAPE : 115.3805765311416\n",
      "MSE : 2478.8495793492157\n",
      "RMSE : 49.788046550846076\n"
     ]
    }
   ],
   "source": [
    "model = LinearRegression()\n",
    "model_and_metrics(X_train, y_train, X_test, y_test, model)"
   ]
  },
  {
   "cell_type": "markdown",
   "metadata": {},
   "source": [
    "# Ridge"
   ]
  },
  {
   "cell_type": "code",
   "execution_count": 69,
   "metadata": {},
   "outputs": [
    {
     "name": "stdout",
     "output_type": "stream",
     "text": [
      "===================Building the model... ===========================\n",
      "Model Ridge(alpha=1.0, copy_X=True, fit_intercept=True, max_iter=None,\n",
      "   normalize=False, random_state=None, solver='auto', tol=0.001) ran successfully..\n",
      "\n",
      "\n",
      "======================== Score's ===================================\n",
      "r square :  -0.06212661249933005\n",
      "Adjusted r square : -0.06351683057851765\n",
      "MAPE : 115.30725541539431\n",
      "MSE : 2478.519906339451\n",
      "RMSE : 49.78473567610308\n"
     ]
    }
   ],
   "source": [
    "model = Ridge()\n",
    "model_and_metrics(X_train, y_train, X_test, y_test, model)"
   ]
  },
  {
   "cell_type": "markdown",
   "metadata": {},
   "source": [
    "# Lasso"
   ]
  },
  {
   "cell_type": "code",
   "execution_count": 70,
   "metadata": {},
   "outputs": [
    {
     "name": "stdout",
     "output_type": "stream",
     "text": [
      "===================Building the model... ===========================\n",
      "Model Lasso(alpha=1.0, copy_X=True, fit_intercept=True, max_iter=1000,\n",
      "   normalize=False, positive=False, precompute=False, random_state=None,\n",
      "   selection='cyclic', tol=0.0001, warm_start=False) ran successfully..\n",
      "\n",
      "\n",
      "======================== Score's ===================================\n",
      "r square :  -0.006552050987458813\n",
      "Adjusted r square : -0.007869527493986839\n",
      "MAPE : 77.13450954847055\n",
      "MSE : 2348.8341839667373\n",
      "RMSE : 48.46477260822274\n"
     ]
    }
   ],
   "source": [
    "model = Lasso()\n",
    "model_and_metrics(X_train, y_train, X_test, y_test, model)"
   ]
  },
  {
   "cell_type": "markdown",
   "metadata": {},
   "source": [
    "# KNeighborsRegressor"
   ]
  },
  {
   "cell_type": "code",
   "execution_count": 71,
   "metadata": {},
   "outputs": [
    {
     "name": "stdout",
     "output_type": "stream",
     "text": [
      "===================Building the model... ===========================\n",
      "Model KNeighborsRegressor(algorithm='auto', leaf_size=30, metric='minkowski',\n",
      "          metric_params=None, n_jobs=1, n_neighbors=5, p=2,\n",
      "          weights='uniform') ran successfully..\n",
      "\n",
      "\n",
      "======================== Score's ===================================\n",
      "r square :  -12.030828994841643\n",
      "Adjusted r square : -12.047885053735415\n",
      "MAPE : 73.08036373193538\n",
      "MSE : 30408.02168003364\n",
      "RMSE : 174.3789599694689\n"
     ]
    }
   ],
   "source": [
    "model = KNeighborsRegressor()\n",
    "model_and_metrics(X_train, y_train, X_test, y_test, model)"
   ]
  },
  {
   "cell_type": "markdown",
   "metadata": {},
   "source": [
    "# DecisionTreeRegressor"
   ]
  },
  {
   "cell_type": "code",
   "execution_count": 72,
   "metadata": {},
   "outputs": [
    {
     "name": "stdout",
     "output_type": "stream",
     "text": [
      "===================Building the model... ===========================\n",
      "Model DecisionTreeRegressor(criterion='mse', max_depth=None, max_features=None,\n",
      "           max_leaf_nodes=None, min_impurity_decrease=0.0,\n",
      "           min_impurity_split=None, min_samples_leaf=1,\n",
      "           min_samples_split=2, min_weight_fraction_leaf=0.0,\n",
      "           presort=False, random_state=None, splitter='best') ran successfully..\n",
      "\n",
      "\n",
      "======================== Score's ===================================\n",
      "r square :  -0.0039719835525673375\n",
      "Adjusted r square : -0.005286083007479014\n",
      "MAPE : 46.10894931125789\n",
      "MSE : 2342.813481329385\n",
      "RMSE : 48.40261853794054\n"
     ]
    }
   ],
   "source": [
    "model = DecisionTreeRegressor()\n",
    "model_and_metrics(X_train, y_train, X_test, y_test, model)"
   ]
  },
  {
   "cell_type": "markdown",
   "metadata": {},
   "source": [
    "# RandomForestRegressor"
   ]
  },
  {
   "cell_type": "code",
   "execution_count": 73,
   "metadata": {},
   "outputs": [
    {
     "name": "stdout",
     "output_type": "stream",
     "text": [
      "===================Building the model... ===========================\n",
      "Model RandomForestRegressor(bootstrap=True, criterion='mse', max_depth=None,\n",
      "           max_features='auto', max_leaf_nodes=None,\n",
      "           min_impurity_decrease=0.0, min_impurity_split=None,\n",
      "           min_samples_leaf=1, min_samples_split=2,\n",
      "           min_weight_fraction_leaf=0.0, n_estimators=10, n_jobs=1,\n",
      "           oob_score=False, random_state=None, verbose=0, warm_start=False) ran successfully..\n",
      "\n",
      "\n",
      "======================== Score's ===================================\n",
      "r square :  -63.07262243423352\n",
      "Adjusted r square : -63.15648712328357\n",
      "MAPE : 96.97657055248358\n",
      "MSE : 149516.32723045026\n",
      "RMSE : 386.67341158974233\n"
     ]
    }
   ],
   "source": [
    "model = RandomForestRegressor()\n",
    "model_and_metrics(X_train, y_train, X_test, y_test, model)"
   ]
  },
  {
   "cell_type": "markdown",
   "metadata": {},
   "source": [
    "# XGBRegressor"
   ]
  },
  {
   "cell_type": "code",
   "execution_count": 74,
   "metadata": {},
   "outputs": [
    {
     "name": "stdout",
     "output_type": "stream",
     "text": [
      "===================Building the model... ===========================\n",
      "[11:29:00] WARNING: C:/Jenkins/workspace/xgboost-win64_release_0.90/src/objective/regression_obj.cu:152: reg:linear is now deprecated in favor of reg:squarederror.\n",
      "Model XGBRegressor(base_score=0.5, booster='gbtree', colsample_bylevel=1,\n",
      "       colsample_bynode=1, colsample_bytree=1, gamma=0,\n",
      "       importance_type='gain', learning_rate=0.1, max_delta_step=0,\n",
      "       max_depth=3, min_child_weight=1, missing=None, n_estimators=100,\n",
      "       n_jobs=1, nthread=None, objective='reg:linear', random_state=0,\n",
      "       reg_alpha=0, reg_lambda=1, scale_pos_weight=1, seed=None,\n",
      "       silent=None, subsample=1, verbosity=1) ran successfully..\n",
      "\n",
      "\n",
      "======================== Score's ===================================\n",
      "r square :  -1.661918479403801\n",
      "Adjusted r square : -1.6654026658951673\n",
      "MAPE : 66.80702936695616\n",
      "MSE : 6211.705706846061\n",
      "RMSE : 78.81437500130329\n"
     ]
    }
   ],
   "source": [
    "model = XGBRegressor()\n",
    "model_and_metrics(X_train, y_train, X_test, y_test, model)"
   ]
  },
  {
   "cell_type": "markdown",
   "metadata": {},
   "source": [
    "# Chossing the best model:"
   ]
  },
  {
   "cell_type": "markdown",
   "metadata": {},
   "source": [
    "# DecisionTreeRegressor"
   ]
  },
  {
   "cell_type": "code",
   "execution_count": 77,
   "metadata": {},
   "outputs": [
    {
     "name": "stdout",
     "output_type": "stream",
     "text": [
      "===================Building the model... ===========================\n",
      "Model DecisionTreeRegressor(criterion='mse', max_depth=None, max_features=None,\n",
      "           max_leaf_nodes=None, min_impurity_decrease=0.0,\n",
      "           min_impurity_split=None, min_samples_leaf=1,\n",
      "           min_samples_split=2, min_weight_fraction_leaf=0.0,\n",
      "           presort=False, random_state=None, splitter='best') ran successfully..\n",
      "\n",
      "\n",
      "======================== Score's ===================================\n",
      "r square :  -0.0030836681109716046\n",
      "Adjusted r square : -0.004396604849336683\n",
      "MAPE : 46.65976083860093\n",
      "MSE : 2340.740557556274\n",
      "RMSE : 48.381200455923725\n"
     ]
    }
   ],
   "source": [
    "model = DecisionTreeRegressor()\n",
    "model_and_metrics(X_train, y_train, X_test, y_test, model)"
   ]
  },
  {
   "cell_type": "markdown",
   "metadata": {},
   "source": [
    "# Summary:\n",
    "\n",
    "From all the different models. Decision tree regression gave best results. The RMSE, MAPE, MSE values of decision tree is less than the other models. So we consider the decision tree.\n",
    "\n",
    "===================Building the model... ===========================\n",
    "\n",
    "Model DecisionTreeRegressor(criterion='mse', max_depth=None, max_features=None,\n",
    "           max_leaf_nodes=None, min_impurity_decrease=0.0,\n",
    "           min_impurity_split=None, min_samples_leaf=1,\n",
    "           min_samples_split=2, min_weight_fraction_leaf=0.0,\n",
    "           presort=False, random_state=None, splitter='best') ran successfully..\n",
    "\n",
    "\n",
    "======================== Score's ===================================\n",
    "\n",
    "r square :  -0.004573787642432547\n",
    "Adjusted r square : -0.005888674799032545\n",
    "MAPE : 47.11650414546063\n",
    "MSE : 2344.217818061837\n",
    "RMSE : 48.417123190683654\n",
    "\n",
    "Root mean square error is 48%. The lower the RMSE value the better the model performs.\n"
   ]
  },
  {
   "cell_type": "markdown",
   "metadata": {},
   "source": [
    "# Storing the model for the deployment"
   ]
  },
  {
   "cell_type": "code",
   "execution_count": 78,
   "metadata": {},
   "outputs": [],
   "source": [
    "import pickle\n",
    "\n",
    "# Save the model as a pickle in a file \n",
    "model_file = open('cab_fare_model.pkl', 'ab')\n",
    "pickle.dump(model, model_file) \n",
    "model_file.close()\n",
    "\n",
    "# # Load the model from the file \n",
    "# model_from_pickle = pickle.load('cab_fare_model.pkl')"
   ]
  },
  {
   "cell_type": "code",
   "execution_count": null,
   "metadata": {},
   "outputs": [],
   "source": []
  }
 ],
 "metadata": {
  "kernelspec": {
   "display_name": "Python 3",
   "language": "python",
   "name": "python3"
  },
  "language_info": {
   "codemirror_mode": {
    "name": "ipython",
    "version": 3
   },
   "file_extension": ".py",
   "mimetype": "text/x-python",
   "name": "python",
   "nbconvert_exporter": "python",
   "pygments_lexer": "ipython3",
   "version": "3.6.5"
  }
 },
 "nbformat": 4,
 "nbformat_minor": 2
}
